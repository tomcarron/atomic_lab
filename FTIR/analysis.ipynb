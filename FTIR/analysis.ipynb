{
 "cells": [
  {
   "cell_type": "markdown",
   "metadata": {},
   "source": [
    "## FTIR analysis"
   ]
  },
  {
   "cell_type": "code",
   "execution_count": 1,
   "metadata": {},
   "outputs": [],
   "source": [
    "from FTIR import *"
   ]
  },
  {
   "cell_type": "code",
   "execution_count": 2,
   "metadata": {},
   "outputs": [],
   "source": [
    "#read table of rotational constants to pandas df\n",
    "df=pd.read_csv(\"tables/const.dat\",sep=\"\\s+\",header=0,names=[\"$B_0$\", \"$B_0err$\", \"$B_1$\", \"$B_1err$\", \"$D_0$\", \"$D_0err$\",\n",
    "\"$D_1$\", \"$D_1err$\", \"$\\nu_0$\", \"$\\nu_0err$\"],index_col=0)\n",
    "#print(df)\n",
    "#read in atomic masses used in calculations to data frame. atomic masses from webelements.com\n",
    "masses=pd.read_csv(\"tables/amu.dat\",sep=\"\\s+\",header=0,names=[\"mass\",\"error\"],index_col=0)\n",
    "#print(masses)"
   ]
  },
  {
   "cell_type": "code",
   "execution_count": 3,
   "metadata": {},
   "outputs": [],
   "source": [
    "#calculate an array of reduced masses and errors for the 4 molecules\n",
    "mus,dmus=np.zeros(4),np.zeros(4)\n",
    "k=0\n",
    "for i in range(2):\n",
    "    for j in range(2,4):  \n",
    "        mus[k],dmus[k]=reduced_mass(masses[\"mass\"][i],masses[\"error\"][i],masses[\"mass\"][j],masses[\"error\"][j])\n",
    "        k+=1"
   ]
  },
  {
   "cell_type": "code",
   "execution_count": 9,
   "metadata": {},
   "outputs": [
    {
     "name": "stdout",
     "output_type": "stream",
     "text": [
      "                     H35Cl      H37Cl      D35Cl     D37Cl\n",
      "mu                0.979593   0.981077   1.904413  1.910033\n",
      "dmu              65.188314  10.423867  61.689132  9.892631\n",
      "Be               10.590850  10.575600   5.448650  5.433150\n",
      "Be_err            0.006698   0.009878   0.002585  0.005154\n",
      "Bond length       1.274706   1.274659   1.274598  1.274536\n",
      "Bond length err  54.064794   8.631463  26.312610  4.206753\n"
     ]
    }
   ],
   "source": [
    "#Use the functions from FTIR.py to calculate the internuclear distances\n",
    "bls,bls_err=[],[]\n",
    "be_list,be_err_list=[],[]\n",
    "for i in range(4):\n",
    "    Be,Be_err=B_e(df[\"$B_0$\"][i],df[\"$B_0err$\"][i],df[\"$B_1$\"][i],df[\"$B_1err$\"][i])\n",
    "    be_list=np.append(be_list,Be)\n",
    "    be_err_list=np.append(be_err_list,Be_err)\n",
    "    be_err_list\n",
    "    I,I_err=inertia(Be,Be_err)\n",
    "    mu,dmu=mus[i],dmus[i]\n",
    "    bl,bl_err=bond_length(I,I_err,mu,dmu)\n",
    "    bls=np.append(bls,bl)\n",
    "    bls_err=np.append(bls_err,bl_err)\n",
    "\n",
    "indices=[\"mu\",\"dmu\",\"Be\",\"Be_err\",\"Bond length\",\"Bond length err\"]\n",
    "cols=[\"H35Cl\",\"H37Cl\",\"D35Cl\",\"D37Cl\"]\n",
    "results=pd.DataFrame(np.array([mus,dmus,be_list,be_err_list,bls,bls_err]),columns=cols,index=indices)\n",
    "results.to_latex(\"tables/results.tex\")\n",
    "print(results)\n",
    "#wohooo! but need to fix significant figures...\n"
   ]
  }
 ],
 "metadata": {
  "interpreter": {
   "hash": "35455d277cc69279d69bd3d2fff07608906c78ad9fde0fa493e6ee7e737d810e"
  },
  "kernelspec": {
   "display_name": "Python 3.8.5 ('base')",
   "language": "python",
   "name": "python3"
  },
  "language_info": {
   "codemirror_mode": {
    "name": "ipython",
    "version": 3
   },
   "file_extension": ".py",
   "mimetype": "text/x-python",
   "name": "python",
   "nbconvert_exporter": "python",
   "pygments_lexer": "ipython3",
   "version": "3.8.5"
  },
  "orig_nbformat": 4
 },
 "nbformat": 4,
 "nbformat_minor": 2
}
