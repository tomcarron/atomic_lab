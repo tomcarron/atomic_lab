{
 "cells": [
  {
   "cell_type": "markdown",
   "metadata": {},
   "source": [
    "## FTIR analysis"
   ]
  },
  {
   "cell_type": "code",
   "execution_count": 1,
   "metadata": {},
   "outputs": [],
   "source": [
    "from FTIR import *"
   ]
  },
  {
   "cell_type": "code",
   "execution_count": 2,
   "metadata": {},
   "outputs": [
    {
     "name": "stdout",
     "output_type": "stream",
     "text": [
      "           mass         error\n",
      "H      1.007825  4.000000e-10\n",
      "D      2.101778  4.000000e-10\n",
      "35Cl  34.968853  6.900000e-08\n",
      "37Cl  36.965903  1.100000e-07\n"
     ]
    }
   ],
   "source": [
    "#read table of rotational constants to pandas df\n",
    "df=pd.read_csv(\"tables/const.dat\",sep=\"\\s+\",header=0,names=[\"$B_0$\", \"$B_0err$\", \"$B_1$\", \"$B_1err$\", \"$D_0$\", \"$D_0err$\",\n",
    "\"$D_1$\", \"$D_1err$\", \"$\\nu_0$\", \"$\\nu_0err$\"],index_col=0)\n",
    "#print(df)\n",
    "#read in atomic masses used in calculations to data frame. atomic masses from webelements.com\n",
    "masses=pd.read_csv(\"tables/amu.dat\",sep=\"\\s+\",header=0,names=[\"mass\",\"error\"],index_col=0)\n",
    "print(masses)"
   ]
  },
  {
   "cell_type": "code",
   "execution_count": 3,
   "metadata": {},
   "outputs": [],
   "source": [
    "#calculate an array of reduced masses and errors for the 4 molecules\n",
    "mus,dmus=np.zeros(4),np.zeros(4)\n",
    "k=0\n",
    "for i in range(2):\n",
    "    for j in range(2,4):  \n",
    "        mus[k],dmus[k]=reduced_mass(masses[\"mass\"][i],masses[\"error\"][i],masses[\"mass\"][j],masses[\"error\"][j])\n",
    "        k+=1"
   ]
  },
  {
   "cell_type": "code",
   "execution_count": 4,
   "metadata": {},
   "outputs": [
    {
     "name": "stdout",
     "output_type": "stream",
     "text": [
      "                        H35Cl         H37Cl         D35Cl         D37Cl\n",
      "mu               9.795925e-01  9.810773e-01  1.982614e+00  1.988706e+00\n",
      "dmu              6.518831e-08  1.042387e-07  6.139767e-08  9.848273e-08\n",
      "Be               1.059085e+01  1.057560e+01  5.448650e+00  5.433150e+00\n",
      "Be_err           6.698242e-03  9.878426e-03  2.584522e-03  5.154339e-03\n",
      "Bond length      1.274706e+00  1.274659e+00  1.249208e+00  1.249071e+00\n",
      "Bond length err  8.661973e-03  1.279197e-02  6.239176e-03  1.247562e-02\n"
     ]
    }
   ],
   "source": [
    "#Use the functions from FTIR.py to calculate the internuclear distances\n",
    "bls,bls_err=[],[]\n",
    "be_list,be_err_list=[],[]\n",
    "for i in range(4):\n",
    "    Be,Be_err=B_e(df[\"$B_0$\"][i],df[\"$B_0err$\"][i],df[\"$B_1$\"][i],df[\"$B_1err$\"][i])\n",
    "    be_list=np.append(be_list,Be)\n",
    "    be_err_list=np.append(be_err_list,Be_err)\n",
    "    be_err_list\n",
    "    I,I_err=inertia(Be,Be_err)\n",
    "    mu,dmu=mus[i],dmus[i]\n",
    "    bl,bl_err=bond_length(I,I_err,mu,dmu)\n",
    "    bls=np.append(bls,bl)\n",
    "    bls_err=np.append(bls_err,bl_err)\n",
    "\n",
    "indices=[\"mu\",\"dmu\",\"Be\",\"Be_err\",\"Bond length\",\"Bond length err\"]\n",
    "cols=[\"H35Cl\",\"H37Cl\",\"D35Cl\",\"D37Cl\"]\n",
    "decimals = pd.Series([9,9,4,4,4,4], index=indices)\n",
    "results=pd.DataFrame(np.array([mus,dmus,be_list,be_err_list,bls,bls_err]),columns=cols,index=indices)\n",
    "results.round(4)\n",
    "results.to_latex(\"tables/results.tex\")\n",
    "print(results)\n",
    "#digfig fixed but take mu dmu out into seperate table with 9 sigfig\n"
   ]
  }
 ],
 "metadata": {
  "interpreter": {
   "hash": "35455d277cc69279d69bd3d2fff07608906c78ad9fde0fa493e6ee7e737d810e"
  },
  "kernelspec": {
   "display_name": "Python 3.8.5 ('base')",
   "language": "python",
   "name": "python3"
  },
  "language_info": {
   "codemirror_mode": {
    "name": "ipython",
    "version": 3
   },
   "file_extension": ".py",
   "mimetype": "text/x-python",
   "name": "python",
   "nbconvert_exporter": "python",
   "pygments_lexer": "ipython3",
   "version": "3.8.5"
  },
  "orig_nbformat": 4
 },
 "nbformat": 4,
 "nbformat_minor": 2
}
